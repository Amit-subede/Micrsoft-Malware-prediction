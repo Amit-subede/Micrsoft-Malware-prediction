import random
import os
import shutil

class shift_files:
    def __init__(self):
        source = 'train'
        destination_1 = 'byteFiles'
        destination_2 = 'asmFiles'

        if not os.path.isdir(destination_1):
            os.makedirs(destination_1)
        if not os.path.isdir(destination_2):
            os.makedirs(destination_2)

        self.source = source
        self.destination_1 = destination_1
        self.destination_2 = destination_2

    @staticmethod
    def process(source, destination_1, destination_2):
        if os.path.isdir(source):
            data_files = os.listdir(source)
            asm_files = {}
            bytes_files = {}

            for file in data_files:
                if file.endswith(".asm"):
                    asm_files[file.split('.')[0]] = file
                elif file.endswith(".bytes"):
                    bytes_files[file.split('.')[0]] = file

            selected_bytes_keys = random.sample(list(bytes_files.keys()), 3000)

            for key in selected_bytes_keys:
                asm_file = asm_files.get(key + ".asm")
                if asm_file:
                    shutil.move(os.path.join(source, bytes_files[key]), destination_1)
                    shutil.move(os.path.join(source, asm_file), destination_2)

    def execute(self):
        shift_files.process(self.source, self.destination_1, self.destination_2)

# Creating an instance of the class and executing the process
shift_files_instance = shift_files()
shift_files_instance.execute()


#processing bytefiles 
import numpy as np

class ByteFileProcessor:
    @staticmethod
    def process_byte_files():
         # Get the list of files in the 'byteFiles' directory
        files = os.listdir('byteFiles')
        # Initialize a matrix to store features for each file (256 byte values + 1 for '??')
        filenames = []
        feature_matrix = np.zeros((len(files), 257), dtype=int)
        k = 0

        byte_feature_file = open('result.csv', 'w+')
        byte_feature_file.write("ID,0,1,2,3,4,5,6,7,8,9,0a,0b,0c,0d,0e,0f,10,11,12,13,14,15,16,17,18,19,1a,1b,1c,1d,1e,1f,20,21,22,23,24,25,26,27,28,29,2a,2b,2c,2d,2e,2f,30,31,32,33,34,35,36,37,38,39,3a,3b,3c,3d,3e,3f,40,41,42,43,44,45,46,47,48,49,4a,4b,4c,4d,4e,4f,50,51,52,53,54,55,56,57,58,59,5a,5b,5c,5d,5e,5f,60,61,62,63,64,65,66,67,68,69,6a,6b,6c,6d,6e,6f,70,71,72,73,74,75,76,77,78,79,7a,7b,7c,7d,7e,7f,80,81,82,83,84,85,86,87,88,89,8a,8b,8c,8d,8e,8f,90,91,92,93,94,95,96,97,98,99,9a,9b,9c,9d,9e,9f,a0,a1,a2,a3,a4,a5,a6,a7,a8,a9,aa,ab,ac,ad,ae,af,b0,b1,b2,b3,b4,b5,b6,b7,b8,b9,ba,bb,bc,bd,be,bf,c0,c1,c2,c3,c4,c5,c6,c7,c8,c9,ca,cb,cc,cd,ce,cf,d0,d1,d2,d3,d4,d5,d6,d7,d8,d9,da,db,dc,dd,de,df,e0,e1,e2,e3,e4,e5,e6,e7,e8,e9,ea,eb,ec,ed,ee,ef,f0,f1,f2,f3,f4,f5,f6,f7,f8,f9,fa,fb,fc,fd,fe,ff,??")
        byte_feature_file.write("\n")

        for file in files:
            filenames.append(file)
            byte_feature_file.write(file + ",")
            if file.endswith("txt"):
                with open('byteFiles/' + file, "r") as byte_file:
                    for lines in byte_file:
                        line = lines.rstrip().split(" ")
                        # Count occurrences of each byte value 
                        for hex_code in line:
                            if hex_code == '??':
                                feature_matrix[k][256] += 1
                            else:
                                feature_matrix[k][int(hex_code, 16)] += 1
            # Write the feature matrix to the CSV file
            for i, row in enumerate(feature_matrix[k]):
                if i != len(feature_matrix[k]) - 1:
                    byte_feature_file.write(str(row) + ",")
                else:
                    byte_feature_file.write(str(row))
            byte_feature_file.write("\n")

            k += 1

        byte_feature_file.close()


ByteFileProcessor.process_byte_files()


import codecs
import numpy as np
import os

class AsmFileProcessor:
    @staticmethod
    def firstprocess():
        prefixes = ['HEADER:', '.text:', '.Pav:', '.idata:', '.data:', '.bss:', '.rdata:', '.edata:', '.rsrc:', '.tls:', '.reloc:', '.BSS:', '.CODE']
        opcodes = ['jmp', 'mov', 'retf', 'push', 'pop', 'xor', 'retn', 'nop', 'sub', 'inc', 'dec', 'add', 'imul', 'xchg', 'or', 'shr', 'cmp', 'call', 'shl', 'ror', 'rol', 'jnb', 'jz', 'rtn', 'lea', 'movzx']
        keywords = ['.dll', 'std::', ':dword']
        registers = ['edx', 'esi', 'eax', 'ebx', 'ecx', 'edi', 'ebp', 'esp', 'eip']
        asm_output_file = open("asmoutputfile.csv", "w+")  #asmoutputfile
        files = os.listdir('asmfiles')

        for f in files:
            prefixescount = np.zeros(len(prefixes), dtype=int)
            opcodescount = np.zeros(len(opcodes), dtype=int)
            keywordcount = np.zeros(len(keywords), dtype=int)
            registerscount = np.zeros(len(registers), dtype=int)
            features = []
            f2 = f.split('.')[0]
            asm_output_file.write(f2 + ",")
            
            with codecs.open('asmfiles/' + f, encoding='cp1252', errors='replace') as fli:
                for lines in fli:
                    line = lines.rstrip().split()
                    l = line[0]
                    
                    for i in range(len(prefixes)):
                        if prefixes[i] in line[0]:
                            prefixescount[i] += 1
                    
                    line = line[1:]
                    
                    for i in range(len(opcodes)):
                        if any(opcodes[i] == li for li in line):
                            features.append(opcodes[i])
                            opcodescount[i] += 1
                    
                    for i in range(len(registers)):
                        for li in line:
                            if registers[i] in li and ('text' in l or 'CODE' in l):
                                registerscount[i] += 1
                    
                    for i in range(len(keywords)):
                        for li in line:
                            if keywords[i] in li:
                                keywordcount[i] += 1
            
            for prefix in prefixescount:
                asm_output_file.write(str(prefix) + ",")
            for opcode in opcodescount:
                asm_output_file.write(str(opcode) + ",")
            for register in registerscount:
                asm_output_file.write(str(register) + ",")
            for key in keywordcount:
                asm_output_file.write(str(key) + ",")
            asm_output_file.write("\n")
        # Close the CSV file
        asm_output_file.close()

    @staticmethod
    def main():
        AsmFileProcessor.firstprocess()

if __name__ == "__main__":
    AsmFileProcessor.main()

